{
 "cells": [
  {
   "cell_type": "code",
   "execution_count": null,
   "id": "1812d3d5-27d0-4e0b-9e3f-44ab00047972",
   "metadata": {},
   "outputs": [],
   "source": [
    "#FLUX共54GB-比默认的50G免费空间大所以需要提前扩容-如果你没扩容现在立刻去扩容-重启之后再回来。--推荐扩容到100G-125G\n",
    "#FLUX共54GB-比默认的50G免费空间大所以需要提前扩容-如果你没扩容现在立刻去扩容-重启之后再回来。--推荐扩容到100G-125G\n",
    "#FLUX共54GB-比默认的50G免费空间大所以需要提前扩容-如果你没扩容现在立刻去扩容-重启之后再回来。--推荐扩容到100G-125G\n",
    "#FLUX共54GB-比默认的50G免费空间大所以需要提前扩容-如果你没扩容现在立刻去扩容-重启之后再回来。--推荐扩容到100G-125G\n",
    "#FLUX共54GB-比默认的50G免费空间大所以需要提前扩容-如果你没扩容现在立刻去扩容-重启之后再回来。--推荐扩容到100G-125G\n",
    "#FLUX共54GB-比默认的50G免费空间大所以需要提前扩容-如果你没扩容现在立刻去扩容-重启之后再回来。--推荐扩容到100G-125G"
   ]
  },
  {
   "cell_type": "code",
   "execution_count": null,
   "id": "132a912a-3ee4-42f8-8e8a-87ed35986247",
   "metadata": {},
   "outputs": [],
   "source": []
  },
  {
   "cell_type": "code",
   "execution_count": null,
   "id": "7bd2e7ca-e591-422c-8f76-2bcea9159ed6",
   "metadata": {},
   "outputs": [],
   "source": [
    "#开启学术加速\n",
    "!source /etc/network_turbo\n",
    "\n",
    "#进入镜像源\n",
    "!cd ai-toolkit && export HF_ENDPOINT=https://hf-mirror.com\n",
    "\n",
    "#更新生图与基础组件\n",
    "!cd ai-toolkit && git submodule update --init --recursive\n",
    "\n",
    "#（可选）更新基础组件\n",
    "!pip install -U torch torchvision torchaudio --index-url https://download.pytorch.org/whl/cu124\n",
    "!pip install -r requirements.txt -i https://pypi.tuna.tsinghua.edu.cn/simple"
   ]
  },
  {
   "cell_type": "code",
   "execution_count": null,
   "id": "2f97665f-8401-462e-a871-af9cd0d01853",
   "metadata": {},
   "outputs": [],
   "source": [
    "#更新下载器\n",
    "!pip install -U transformers huggingface_hub\n",
    "\n",
    "#进入镜像源\n",
    "!export HF_ENDPOINT=https://hf-mirror.com\n",
    "\n",
    "#在Huggingface网站个人界面-进入setting页面-左侧边栏能看到Access Tokens-点击之后在右侧有个浮雕框【create new token】-Token type选择Read-起个名字-点击确认-记好你的密匙\n",
    "!huggingface-cli download --token 【这里替换成你的Huggingface密匙-连着括号一起删】 --resume-download black-forest-labs/FLUX.1-dev --local-dir /root/autodl-tmp/FLUX\n",
    "\n",
    "#第三步  Config中，对模型的引用【第62行】需要写成 name_or_path: \"/root/autodl-tmp/FLUX\""
   ]
  },
  {
   "cell_type": "code",
   "execution_count": null,
   "id": "753baa5d-b5a4-4e2a-b3cd-09ca1b85645b",
   "metadata": {},
   "outputs": [],
   "source": []
  },
  {
   "cell_type": "code",
   "execution_count": null,
   "id": "8de73e43-da24-4552-8e24-d458d456d5df",
   "metadata": {},
   "outputs": [],
   "source": []
  },
  {
   "cell_type": "code",
   "execution_count": null,
   "id": "3070499e-a3d9-4af8-a7cf-63cc0b57377d",
   "metadata": {},
   "outputs": [],
   "source": [
    "（可选）模型下载好之后，请根据视频https://www.bilibili.com/video/BV1tuexeaE2h进行具体的操作"
   ]
  },
  {
   "cell_type": "code",
   "execution_count": 2,
   "id": "b2b57a45-18b5-4703-a0ee-7ae622c08c4a",
   "metadata": {},
   "outputs": [],
   "source": [
    "#准备你的训练集\n",
    "!mkdir /root/autodl-tmp/训练集"
   ]
  },
  {
   "cell_type": "code",
   "execution_count": null,
   "id": "ab861e4e-1f56-49ce-bae3-fc01d3272d97",
   "metadata": {},
   "outputs": [],
   "source": [
    "#开启训练【train_lora_flux_24gb.yaml可以重命名为你想命名的名字--这个就是训练参数文件-配置文件】\n",
    "!cd /root/ai-toolkit && python run.py config/train_lora_flux_24gb-PAseer.yaml"
   ]
  },
  {
   "cell_type": "code",
   "execution_count": null,
   "id": "2ca019ba-55e0-4f40-8af1-fae7d7f14cc8",
   "metadata": {},
   "outputs": [],
   "source": []
  },
  {
   "cell_type": "code",
   "execution_count": null,
   "id": "986b1967-5144-4d5b-87ef-f35eb5b0aa66",
   "metadata": {},
   "outputs": [],
   "source": []
  },
  {
   "cell_type": "code",
   "execution_count": null,
   "id": "9590c262-5313-45cf-97e1-1bb5b45273d7",
   "metadata": {},
   "outputs": [],
   "source": [
    "（可选）下载ComfyUI---测试用-请根据视频https://www.bilibili.com/video/BV11beneVEF6进行具体操作"
   ]
  },
  {
   "cell_type": "code",
   "execution_count": null,
   "id": "fd87e4b9-f29a-493f-87d7-49012e8f0b13",
   "metadata": {},
   "outputs": [],
   "source": [
    "#下载ComfyUI --默认下载到autodl-tmp文件夹里\n",
    "!git clone https://github.com/comfyanonymous/ComfyUI.git /root/autodl-tmp/ComfyUI"
   ]
  },
  {
   "cell_type": "code",
   "execution_count": null,
   "id": "db2bef13-3b22-408c-8082-1923ac332349",
   "metadata": {},
   "outputs": [],
   "source": [
    "#(删除ComfyUI) !cd /root/autodl-tmp && rm -rf ComfyUI"
   ]
  },
  {
   "cell_type": "code",
   "execution_count": null,
   "id": "1ff5b76a-c8b4-4a11-b49f-a0745765d3a2",
   "metadata": {},
   "outputs": [],
   "source": [
    "#下载ComfyUI管理器\n",
    "!git clone https://github.com/ltdrdata/ComfyUI-Manager.git /root/autodl-tmp/ComfyUI/custom_nodes/ComfyUI-Manager"
   ]
  },
  {
   "cell_type": "code",
   "execution_count": null,
   "id": "6caae80f-d9eb-4dd3-9b12-1fa3e5cfadb5",
   "metadata": {
    "scrolled": true
   },
   "outputs": [],
   "source": [
    "#更新ComfyUI依赖\n",
    "!cd /root/autodl-tmp/ComfyUI && pip install -U -r requirements.txt -i https://pypi.tuna.tsinghua.edu.cn/simple"
   ]
  },
  {
   "cell_type": "code",
   "execution_count": null,
   "id": "cefcf8af-e149-4f62-8bee-88c45c13e862",
   "metadata": {},
   "outputs": [],
   "source": [
    "#开启ComfyUI  -port 的选择请根据自定义节点更改\n",
    "!cd /root/autodl-tmp/ComfyUI && python main.py --port=6006"
   ]
  }
 ],
 "metadata": {
  "kernelspec": {
   "display_name": "Python 3 (ipykernel)",
   "language": "python",
   "name": "python3"
  },
  "language_info": {
   "codemirror_mode": {
    "name": "ipython",
    "version": 3
   },
   "file_extension": ".py",
   "mimetype": "text/x-python",
   "name": "python",
   "nbconvert_exporter": "python",
   "pygments_lexer": "ipython3",
   "version": "3.12.3"
  }
 },
 "nbformat": 4,
 "nbformat_minor": 5
}
